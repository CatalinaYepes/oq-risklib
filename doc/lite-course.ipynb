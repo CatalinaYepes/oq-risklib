{
 "metadata": {
  "name": "",
  "signature": "sha256:d7631cca4ea23931df78512a9b338dcd0645cce697b95717cf9b3a478aa14a54"
 },
 "nbformat": 3,
 "nbformat_minor": 0,
 "worksheets": [
  {
   "cells": [
    {
     "cell_type": "heading",
     "level": 1,
     "metadata": {},
     "source": [
      "Origin and goals of commonlib"
     ]
    },
    {
     "cell_type": "markdown",
     "metadata": {},
     "source": [
      "1. commonlib was written as a basis for a future lite version of the engine, with no dependency on Postgresql, Django and Celery\n",
      "2. the idea is to move in commonlib *everything* which does not depend on Postgresql, Django and Celery\n",
      "3. the engine *must* become small\n",
      "4. it must be possible to write hazard/risk calculators entirely in commonlib\n",
      "5. sooner or later the engine QA test will be moved in commonlib\n",
      "6. hazardlib, risklib, commonlib might become a single repository (oq-lite)"
     ]
    },
    {
     "cell_type": "heading",
     "level": 1,
     "metadata": {},
     "source": [
      "Use of commonlib: reading the engine input files"
     ]
    },
    {
     "cell_type": "code",
     "collapsed": false,
     "input": [
      "import os; print os.getcwd()\n",
      "print [f for f in os.listdir('.') if f.endswith(('.py', '.ini', '.xml'))]"
     ],
     "language": "python",
     "metadata": {},
     "outputs": [
      {
       "output_type": "stream",
       "stream": "stdout",
       "text": [
        "/home/ubuntu/oq-risklib/docs\n",
        "['fault_rupture.xml', 'NSHMP2008US_micro.xml', 'test.py', 'job_usa.ini', 'gmpe_logic_tree.xml', 'job_hc_from_csv.ini', 'source_model_logic_tree.xml', 'job_gmvs_from_csv.ini', 'job_damage.ini', 'job.ini', 'vulnerability_model.xml', 'riskinput.py', 'conf.py', 'job_risk.ini', 'rupture_model.xml', 'fragility_model.xml', 'expected.xml', 'hello_test.py', 'hello.ini', 'exposure_model.xml']\n"
       ]
      }
     ],
     "prompt_number": 179
    },
    {
     "cell_type": "code",
     "collapsed": false,
     "input": [
      "print open('job.ini').read()"
     ],
     "language": "python",
     "metadata": {},
     "outputs": [
      {
       "output_type": "stream",
       "stream": "stdout",
       "text": [
        "[general]\n",
        "description = Scenario QA Test, Case 1\n",
        "calculation_mode = my_scenario\n",
        "export_dir = /tmp\n",
        "random_seed = 3\n",
        "sites = 0.0 0.0, 0.0 0.1, 0.0 0.2\n",
        "rupture_mesh_spacing = 1.0\n",
        "reference_vs30_type = measured\n",
        "reference_vs30_value = 800.0\n",
        "reference_depth_to_2pt5km_per_sec = 2.5\n",
        "reference_depth_to_1pt0km_per_sec = 100.0\n",
        "rupture_model_file = rupture_model.xml\n",
        "intensity_measure_types = PGA\n",
        "truncation_level = 1.0\n",
        "maximum_distance = 200\n",
        "gsim = BooreAtkinson2008\n",
        "number_of_ground_motion_fields = 5\n",
        "\n"
       ]
      }
     ],
     "prompt_number": 180
    },
    {
     "cell_type": "code",
     "collapsed": false,
     "input": [
      "from openquake.baselib.general import import_all; import_all('my_calculators')"
     ],
     "language": "python",
     "metadata": {},
     "outputs": [
      {
       "metadata": {},
       "output_type": "pyout",
       "prompt_number": 181,
       "text": [
        "set()"
       ]
      }
     ],
     "prompt_number": 181
    },
    {
     "cell_type": "code",
     "collapsed": false,
     "input": [
      "from openquake.commonlib import readinput"
     ],
     "language": "python",
     "metadata": {},
     "outputs": [],
     "prompt_number": 182
    },
    {
     "cell_type": "code",
     "collapsed": false,
     "input": [
      "oqparam = readinput.get_oqparam('job.ini'); oqparam"
     ],
     "language": "python",
     "metadata": {},
     "outputs": [
      {
       "metadata": {},
       "output_type": "pyout",
       "prompt_number": 183,
       "text": [
        "<OqParam base_path=/home/ubuntu/oq-risklib/docs, calculation_mode=my_scenario, complex_fault_mesh_spacing=1.0, description=Scenario QA Test, Case 1, export_dir=/tmp, gsim=BooreAtkinson2008, hazard_imtls={'PGA': None}, inputs={'rupture_model': '/home/ubuntu/oq-risklib/docs/rupture_model.xml', 'job_ini': 'job.ini'}, maximum_distance=200.0, number_of_ground_motion_fields=5, random_seed=3, reference_depth_to_1pt0km_per_sec=100.0, reference_depth_to_2pt5km_per_sec=2.5, reference_vs30_type=measured, reference_vs30_value=800.0, rupture_mesh_spacing=1.0, sites=[(0.0, 0.0), (0.0, 0.1), (0.0, 0.2)], truncation_level=1.0>"
       ]
      }
     ],
     "prompt_number": 183
    },
    {
     "cell_type": "code",
     "collapsed": false,
     "input": [
      "for name, value in oqparam:\n",
      "    print name, '=', repr(value)"
     ],
     "language": "python",
     "metadata": {},
     "outputs": [
      {
       "output_type": "stream",
       "stream": "stdout",
       "text": [
        "base_path = '/home/ubuntu/oq-risklib/docs'\n",
        "calculation_mode = 'my_scenario'\n",
        "complex_fault_mesh_spacing = 1.0\n",
        "description = 'Scenario QA Test, Case 1'\n",
        "export_dir = '/tmp'\n",
        "gsim = 'BooreAtkinson2008'\n",
        "hazard_imtls = {'PGA': None}\n",
        "inputs = {'rupture_model': '/home/ubuntu/oq-risklib/docs/rupture_model.xml', 'job_ini': 'job.ini'}\n",
        "maximum_distance = 200.0\n",
        "number_of_ground_motion_fields = 5\n",
        "random_seed = 3\n",
        "reference_depth_to_1pt0km_per_sec = 100.0\n",
        "reference_depth_to_2pt5km_per_sec = 2.5\n",
        "reference_vs30_type = 'measured'\n",
        "reference_vs30_value = 800.0\n",
        "rupture_mesh_spacing = 1.0\n",
        "sites = [(0.0, 0.0), (0.0, 0.1), (0.0, 0.2)]\n",
        "truncation_level = 1.0\n"
       ]
      }
     ],
     "prompt_number": 184
    },
    {
     "cell_type": "code",
     "collapsed": true,
     "input": [
      "for coords in oqparam.sites: print coords"
     ],
     "language": "python",
     "metadata": {},
     "outputs": [
      {
       "output_type": "stream",
       "stream": "stdout",
       "text": [
        "(0.0, 0.0)\n",
        "(0.0, 0.1)\n",
        "(0.0, 0.2)\n"
       ]
      }
     ],
     "prompt_number": 185
    },
    {
     "cell_type": "code",
     "collapsed": false,
     "input": [
      "mesh = readinput.get_mesh(oqparam)\n",
      "for site in mesh: print site"
     ],
     "language": "python",
     "metadata": {},
     "outputs": [
      {
       "output_type": "stream",
       "stream": "stdout",
       "text": [
        "<Latitude=0.000000, Longitude=0.000000, Depth=0.0000>\n",
        "<Latitude=0.100000, Longitude=0.000000, Depth=0.0000>\n",
        "<Latitude=0.200000, Longitude=0.000000, Depth=0.0000>\n"
       ]
      }
     ],
     "prompt_number": 186
    },
    {
     "cell_type": "code",
     "collapsed": false,
     "input": [
      "[gsim] = readinput.get_gsims(oqparam); gsim"
     ],
     "language": "python",
     "metadata": {},
     "outputs": [
      {
       "metadata": {},
       "output_type": "pyout",
       "prompt_number": 187,
       "text": [
        "<openquake.hazardlib.gsim.boore_atkinson_2008.BooreAtkinson2008 at 0x4759550>"
       ]
      }
     ],
     "prompt_number": 187
    },
    {
     "cell_type": "code",
     "collapsed": false,
     "input": [
      "print open('rupture_model.xml').read()"
     ],
     "language": "python",
     "metadata": {},
     "outputs": [
      {
       "output_type": "stream",
       "stream": "stdout",
       "text": [
        "<?xml version='1.0' encoding='utf-8'?>\n",
        "<nrml xmlns:gml=\"http://www.opengis.net/gml\"\n",
        "      xmlns=\"http://openquake.org/xmlns/nrml/0.4\">\n",
        "    <simpleFaultRupture>\n",
        "        <magnitude>7.0</magnitude>\n",
        "        <rake>90.0</rake>\n",
        "        <hypocenter lat=\"0.0\" lon=\"0.0\" depth=\"10.0\"/>\n",
        "        <simpleFaultGeometry>\n",
        "            <gml:LineString>\n",
        "                <gml:posList>\n",
        "                    28 80.3\n",
        "                    28  80.6\n",
        "                </gml:posList>\n",
        "            </gml:LineString>\n",
        "            <dip>90.0</dip>\n",
        "            <upperSeismoDepth>2.0</upperSeismoDepth>\n",
        "            <lowerSeismoDepth>20.0</lowerSeismoDepth>\n",
        "        </simpleFaultGeometry>\n",
        "    </simpleFaultRupture>\n",
        "</nrml>\n",
        "\n"
       ]
      }
     ],
     "prompt_number": 188
    },
    {
     "cell_type": "code",
     "collapsed": false,
     "input": [
      "rupture = readinput.get_rupture(oqparam); rupture"
     ],
     "language": "python",
     "metadata": {},
     "outputs": [
      {
       "metadata": {},
       "output_type": "pyout",
       "prompt_number": 189,
       "text": [
        "<openquake.hazardlib.source.rupture.Rupture at 0x4f139b0>"
       ]
      }
     ],
     "prompt_number": 189
    },
    {
     "cell_type": "code",
     "collapsed": false,
     "input": [
      "rupture.mag, rupture.rake, rupture.surface"
     ],
     "language": "python",
     "metadata": {},
     "outputs": [
      {
       "metadata": {},
       "output_type": "pyout",
       "prompt_number": 190,
       "text": [
        "(7.0,\n",
        " 90.0,\n",
        " <openquake.hazardlib.geo.surface.simple_fault.SimpleFaultSurface at 0x47640d0>)"
       ]
      }
     ],
     "prompt_number": 190
    },
    {
     "cell_type": "code",
     "collapsed": false,
     "input": [
      "imts = readinput.get_imts(oqparam); imts"
     ],
     "language": "python",
     "metadata": {},
     "outputs": [
      {
       "metadata": {},
       "output_type": "pyout",
       "prompt_number": 191,
       "text": [
        "[PGA()]"
       ]
      }
     ],
     "prompt_number": 191
    },
    {
     "cell_type": "code",
     "collapsed": false,
     "input": [
      "type(imts[0])"
     ],
     "language": "python",
     "metadata": {},
     "outputs": [
      {
       "metadata": {},
       "output_type": "pyout",
       "prompt_number": 192,
       "text": [
        "openquake.hazardlib.imt.PGA"
       ]
      }
     ],
     "prompt_number": 192
    },
    {
     "cell_type": "code",
     "collapsed": false,
     "input": [
      "sitecol = readinput.get_site_collection(oqparam); sitecol"
     ],
     "language": "python",
     "metadata": {},
     "outputs": [
      {
       "metadata": {},
       "output_type": "pyout",
       "prompt_number": 193,
       "text": [
        "<SiteCollection with 3 sites>"
       ]
      }
     ],
     "prompt_number": 193
    },
    {
     "cell_type": "code",
     "collapsed": false,
     "input": [
      "list(sitecol)"
     ],
     "language": "python",
     "metadata": {},
     "outputs": [
      {
       "metadata": {},
       "output_type": "pyout",
       "prompt_number": 194,
       "text": [
        "[<Location=<Latitude=0.000000, Longitude=0.000000, Depth=0.0000>, Vs30=800.0000, Vs30Measured=True, Depth1.0km=100.0000, Depth2.5km=2.5000>,\n",
        " <Location=<Latitude=0.100000, Longitude=0.000000, Depth=0.0000>, Vs30=800.0000, Vs30Measured=True, Depth1.0km=100.0000, Depth2.5km=2.5000>,\n",
        " <Location=<Latitude=0.200000, Longitude=0.000000, Depth=0.0000>, Vs30=800.0000, Vs30Measured=True, Depth1.0km=100.0000, Depth2.5km=2.5000>]"
       ]
      }
     ],
     "prompt_number": 194
    },
    {
     "cell_type": "heading",
     "level": 2,
     "metadata": {},
     "source": [
      "This is enough for performing simple hazard calculations"
     ]
    },
    {
     "cell_type": "code",
     "collapsed": false,
     "input": [
      "from openquake.hazardlib.calc.gmf import ground_motion_fields"
     ],
     "language": "python",
     "metadata": {},
     "outputs": [],
     "prompt_number": 195
    },
    {
     "cell_type": "code",
     "collapsed": false,
     "input": [
      "ground_motion_fields?"
     ],
     "language": "python",
     "metadata": {},
     "outputs": [],
     "prompt_number": 196
    },
    {
     "cell_type": "code",
     "collapsed": false,
     "input": [
      "ground_motion_fields(rupture, sitecol, imts, gsim, oqparam.truncation_level, \n",
      "                     oqparam.number_of_ground_motion_fields,\n",
      "                     correlation_model=readinput.get_correl_model(oqparam),\n",
      "                     seed=oqparam.random_seed) "
     ],
     "language": "python",
     "metadata": {},
     "outputs": [
      {
       "metadata": {},
       "output_type": "pyout",
       "prompt_number": 197,
       "text": [
        "OrderedDict([(PGA(), array([[  1.29778834e-47,   1.12319707e-47,   1.01915100e-47,\n",
        "          1.07825099e-47,   1.65947553e-47],\n",
        "       [  2.04784726e-47,   7.51203345e-48,   1.06991019e-47,\n",
        "          7.86882106e-48,   1.24054768e-47],\n",
        "       [  1.01174143e-47,   1.16454566e-47,   1.80072257e-47,\n",
        "          1.13539698e-47,   1.73028861e-47]]))])"
       ]
      }
     ],
     "prompt_number": 197
    },
    {
     "cell_type": "heading",
     "level": 1,
     "metadata": {},
     "source": [
      "Reading risk input files"
     ]
    },
    {
     "cell_type": "code",
     "collapsed": true,
     "input": [
      "oqp = readinput.get_oqparam('job_damage.ini')\n",
      "for name, value in oqp:\n",
      "    print name, value"
     ],
     "language": "python",
     "metadata": {},
     "outputs": [
      {
       "output_type": "stream",
       "stream": "stdout",
       "text": [
        "base_path /home/ubuntu/oq-risklib/docs\n",
        "calculation_mode scenario_damage\n",
        "complex_fault_mesh_spacing 10.0\n",
        "continuous_fragility_discretization 20\n",
        "description Scenario Damage Example\n",
        "export_dir /tmp\n",
        "ground_motion_correlation_model None\n",
        "ground_motion_correlation_params {}\n",
        "gsim ChiouYoungs2008\n",
        "inputs {'rupture_model': '/home/ubuntu/oq-risklib/docs/fault_rupture.xml', 'fragility': '/home/ubuntu/oq-risklib/docs/fragility_model.xml', 'job_ini': 'job_damage.ini', 'exposure': '/home/ubuntu/oq-risklib/docs/exposure_model.xml'}\n",
        "maximum_distance 300.0\n",
        "number_of_ground_motion_fields 5\n",
        "random_seed 3\n",
        "reference_depth_to_1pt0km_per_sec 100.0\n",
        "reference_depth_to_2pt5km_per_sec 5.0\n",
        "reference_vs30_type measured\n",
        "reference_vs30_value 760.0\n",
        "region_constraint POLYGON((78.0 31.5, 89.5 31.5, 89.5 25.5, 78.0 25.5, 78.0 31.5))\n",
        "risk_imtls {'SA(0.5)': [0.02, 0.09789473684210527, 0.17578947368421052, 0.25368421052631579, 0.33157894736842108, 0.40947368421052632, 0.48736842105263162, 0.56526315789473691, 0.64315789473684215, 0.72105263157894739, 0.79894736842105263, 0.87684210526315798, 0.95473684210526322, 1.0326315789473686, 1.1105263157894738, 1.188421052631579, 1.2663157894736843, 1.3442105263157895, 1.4221052631578948, 1.5], 'SA(0.2)': [0.02, 0.09789473684210527, 0.17578947368421052, 0.25368421052631579, 0.33157894736842108, 0.40947368421052632, 0.48736842105263162, 0.56526315789473691, 0.64315789473684215, 0.72105263157894739, 0.79894736842105263, 0.87684210526315798, 0.95473684210526322, 1.0326315789473686, 1.1105263157894738, 1.188421052631579, 1.2663157894736843, 1.3442105263157895, 1.4221052631578948, 1.5], 'PGA': [0.02, 0.09789473684210527, 0.17578947368421052, 0.25368421052631579, 0.33157894736842108, 0.40947368421052632, 0.48736842105263162, 0.56526315789473691, 0.64315789473684215, 0.72105263157894739, 0.79894736842105263, 0.87684210526315798, 0.95473684210526322, 1.0326315789473686, 1.1105263157894738, 1.188421052631579, 1.2663157894736843, 1.3442105263157895, 1.4221052631578948, 1.5]}\n",
        "rupture_mesh_spacing 10.0\n",
        "truncation_level 3.0\n"
       ]
      }
     ],
     "prompt_number": 198
    },
    {
     "cell_type": "code",
     "collapsed": false,
     "input": [
      "exposure = readinput.get_exposure(oqp); exposure"
     ],
     "language": "python",
     "metadata": {},
     "outputs": [
      {
       "metadata": {},
       "output_type": "pyout",
       "prompt_number": 199,
       "text": [
        "Exposure(id='ep', category='buildings', description='Exposure model for buildings', cost_types=[{'type': 'per_asset', 'name': 'structural', 'unit': 'USD'}], insurance_limit_is_absolute=None, deductible_is_absolute=None, assets=[<Asset a1>, <Asset a2>, <Asset a3>], taxonomies=set(['RM', 'W', 'RC']))"
       ]
      }
     ],
     "prompt_number": 199
    },
    {
     "cell_type": "code",
     "collapsed": false,
     "input": [
      "a1 = exposure.assets[0]"
     ],
     "language": "python",
     "metadata": {},
     "outputs": [],
     "prompt_number": 200
    },
    {
     "cell_type": "code",
     "collapsed": false,
     "input": [
      "a1.number"
     ],
     "language": "python",
     "metadata": {},
     "outputs": [
      {
       "metadata": {},
       "output_type": "pyout",
       "prompt_number": 201,
       "text": [
        "3000.0"
       ]
      }
     ],
     "prompt_number": 201
    },
    {
     "cell_type": "code",
     "collapsed": false,
     "input": [
      "a1.location"
     ],
     "language": "python",
     "metadata": {},
     "outputs": [
      {
       "metadata": {},
       "output_type": "pyout",
       "prompt_number": 202,
       "text": [
        "(81.2985, 29.1098)"
       ]
      }
     ],
     "prompt_number": 202
    },
    {
     "cell_type": "code",
     "collapsed": true,
     "input": [
      "help(readinput.get_exposure)"
     ],
     "language": "python",
     "metadata": {},
     "outputs": [
      {
       "output_type": "stream",
       "stream": "stdout",
       "text": [
        "Help on function get_exposure in module openquake.commonlib.readinput:\n",
        "\n",
        "get_exposure(oqparam)\n",
        "    Read the full exposure in memory and build a list of\n",
        "    :class:`openquake.risklib.workflows.Asset` instances.\n",
        "    If you don't want to keep everything in memory, use\n",
        "    get_exposure_lazy instead (for experts only).\n",
        "    \n",
        "    :param oqparam:\n",
        "        an :class:`openquake.commonlib.oqvalidation.OqParam` instance\n",
        "    :returns:\n",
        "        an :class:`Exposure` instance\n",
        "\n"
       ]
      }
     ],
     "prompt_number": 203
    },
    {
     "cell_type": "code",
     "collapsed": false,
     "input": [
      "sitecol, assets_by_site = readinput.get_sitecol_assets(oqp, exposure)\n",
      "sitecol, assets_by_site"
     ],
     "language": "python",
     "metadata": {},
     "outputs": [
      {
       "metadata": {},
       "output_type": "pyout",
       "prompt_number": 204,
       "text": [
        "(<SiteCollection with 3 sites>, array([[<Asset a1>],\n",
        "        [<Asset a2>],\n",
        "        [<Asset a3>]], dtype=object))"
       ]
      }
     ],
     "prompt_number": 204
    },
    {
     "cell_type": "code",
     "collapsed": false,
     "input": [
      "risk_model = readinput.get_risk_model(oqp); risk_model"
     ],
     "language": "python",
     "metadata": {},
     "outputs": [
      {
       "metadata": {},
       "output_type": "pyout",
       "prompt_number": 205,
       "text": [
        "<openquake.risklib.riskinput.RiskModel at 0x4759850>"
       ]
      }
     ],
     "prompt_number": 205
    },
    {
     "cell_type": "code",
     "collapsed": false,
     "input": [
      "risk_model.keys()"
     ],
     "language": "python",
     "metadata": {},
     "outputs": [
      {
       "metadata": {},
       "output_type": "pyout",
       "prompt_number": 206,
       "text": [
        "[('PGA', 'RM'), ('SA(0.2)', 'RC'), ('SA(0.5)', 'W')]"
       ]
      }
     ],
     "prompt_number": 206
    },
    {
     "cell_type": "code",
     "collapsed": false,
     "input": [
      "workflow = risk_model['PGA', 'RM']; workflow"
     ],
     "language": "python",
     "metadata": {},
     "outputs": [
      {
       "metadata": {},
       "output_type": "pyout",
       "prompt_number": 207,
       "text": [
        "<openquake.risklib.workflows.Damage at 0x4f2cbd0>"
       ]
      }
     ],
     "prompt_number": 207
    },
    {
     "cell_type": "code",
     "collapsed": false,
     "input": [
      "workflow.risk_functions"
     ],
     "language": "python",
     "metadata": {},
     "outputs": [
      {
       "metadata": {},
       "output_type": "pyout",
       "prompt_number": 208,
       "text": [
        "{'damage': <FragilityFunctionList steps_per_interval=None, continuous_fragility_discretization=20, no_damage_limit=None, imt=PGA, imls=[0.02, 0.09789473684210527, 0.17578947368421052, 0.25368421052631579, 0.33157894736842108, 0.40947368421052632, 0.48736842105263162, 0.56526315789473691, 0.64315789473684215, 0.72105263157894739, 0.79894736842105263, 0.87684210526315798, 0.95473684210526322, 1.0326315789473686, 1.1105263157894738, 1.188421052631579, 1.2663157894736843, 1.3442105263157895, 1.4221052631578948, 1.5]>}"
       ]
      }
     ],
     "prompt_number": 208
    },
    {
     "cell_type": "code",
     "collapsed": false,
     "input": [
      "print open('fragility_model.xml').read()"
     ],
     "language": "python",
     "metadata": {},
     "outputs": [
      {
       "output_type": "stream",
       "stream": "stdout",
       "text": [
        "<?xml version='1.0' encoding='utf-8'?>\r\n",
        "<nrml xmlns=\"http://openquake.org/xmlns/nrml/0.4\">\r\n",
        "  <fragilityModel format=\"continuous\">\r\n",
        "    <description>Fragility model for buildings</description>\r\n",
        "    <limitStates>\r\n",
        "      LS1\r\n",
        "      LS2\r\n",
        "    </limitStates>\r\n",
        "    <ffs type=\"lognormal\">\r\n",
        "      <taxonomy>RM</taxonomy>\r\n",
        "      <IML IMT=\"PGA\" imlUnit=\"g\" minIML=\"0.02\" maxIML=\"1.5\"/>\r\n",
        "      <ffc ls=\"LS1\">\r\n",
        "\t<params mean=\"0.15\" stddev=\"0.10\" />\r\n",
        "      </ffc>\r\n",
        "      <ffc ls=\"LS2\">\r\n",
        "\t<params mean=\"0.30\" stddev=\"0.16\" />\r\n",
        "      </ffc>\r\n",
        "    </ffs>\r\n",
        "    <ffs type=\"lognormal\">\r\n",
        "      <taxonomy>RC</taxonomy>\r\n",
        "      <IML IMT=\"SA(0.2)\" imlUnit=\"g\" minIML=\"0.02\" maxIML=\"1.5\"/>\r\n",
        "      <ffc ls=\"LS1\">\r\n",
        "\t<params mean=\"0.25\" stddev=\"0.08\" />\r\n",
        "      </ffc>\r\n",
        "      <ffc ls=\"LS2\">\r\n",
        "\t<params mean=\"0.55\" stddev=\"0.16\" />\r\n",
        "      </ffc>\r\n",
        "    </ffs>\r\n",
        "    <ffs type=\"lognormal\">\r\n",
        "      <taxonomy>W</taxonomy>\r\n",
        "      <IML IMT=\"SA(0.5)\" imlUnit=\"g\" minIML=\"0.02\" maxIML=\"1.5\"/>\r\n",
        "      <ffc ls=\"LS1\">\r\n",
        "\t<params mean=\"0.35\" stddev=\"0.12\" />\r\n",
        "      </ffc>\r\n",
        "      <ffc ls=\"LS2\">\r\n",
        "\t<params mean=\"0.70\" stddev=\"0.20\" />\r\n",
        "      </ffc>\r\n",
        "    </ffs>\r\n",
        "  </fragilityModel>\r\n",
        "</nrml>\r\n",
        "\n"
       ]
      }
     ],
     "prompt_number": 209
    },
    {
     "cell_type": "code",
     "collapsed": false,
     "input": [
      "workflow.risk_functions['damage'][0], workflow.risk_functions['damage'][1]"
     ],
     "language": "python",
     "metadata": {},
     "outputs": [
      {
       "metadata": {},
       "output_type": "pyout",
       "prompt_number": 210,
       "text": [
        "(<FragilityFunctionContinuous(LS1, 0.15, 0.1)>,\n",
        " <FragilityFunctionContinuous(LS2, 0.3, 0.16)>)"
       ]
      }
     ],
     "prompt_number": 210
    },
    {
     "cell_type": "code",
     "collapsed": false,
     "input": [
      "risk_model.damage_states"
     ],
     "language": "python",
     "metadata": {},
     "outputs": [
      {
       "metadata": {},
       "output_type": "pyout",
       "prompt_number": 211,
       "text": [
        "['no_damage', 'LS1', 'LS2']"
       ]
      }
     ],
     "prompt_number": 211
    },
    {
     "cell_type": "code",
     "collapsed": false,
     "input": [
      "?workflow"
     ],
     "language": "python",
     "metadata": {},
     "outputs": [],
     "prompt_number": 212
    },
    {
     "cell_type": "code",
     "collapsed": true,
     "input": [
      "oqr = readinput.get_oqparam('job_risk.ini')\n",
      "rm = readinput.get_risk_model(oqr)\n",
      "rm.keys()"
     ],
     "language": "python",
     "metadata": {},
     "outputs": [
      {
       "metadata": {},
       "output_type": "pyout",
       "prompt_number": 213,
       "text": [
        "[('PGA', 'RM'), ('SA(0.2)', 'RC'), ('SA(0.5)', 'W')]"
       ]
      }
     ],
     "prompt_number": 213
    },
    {
     "cell_type": "code",
     "collapsed": false,
     "input": [
      "rm['SA(0.2)', 'RC'].risk_functions"
     ],
     "language": "python",
     "metadata": {},
     "outputs": [
      {
       "metadata": {},
       "output_type": "pyout",
       "prompt_number": 214,
       "text": [
        "{'structural': <VulnerabilityFunction(SA(0.2))>}"
       ]
      }
     ],
     "prompt_number": 214
    },
    {
     "cell_type": "heading",
     "level": 1,
     "metadata": {},
     "source": [
      "Reading sources"
     ]
    },
    {
     "cell_type": "code",
     "collapsed": false,
     "input": [
      "from openquake.commonlib import readinput\n",
      "usparam = readinput.get_oqparam('job_usa.ini')\n",
      "sitecol = readinput.get_site_collection(usparam)"
     ],
     "language": "python",
     "metadata": {},
     "outputs": [],
     "prompt_number": 215
    },
    {
     "cell_type": "code",
     "collapsed": false,
     "input": [
      "source_models = list(readinput.get_composite_source_model(usparam, sitecol))  # slow\n",
      "source_models"
     ],
     "language": "python",
     "metadata": {},
     "outputs": [
      {
       "metadata": {},
       "output_type": "pyout",
       "prompt_number": 216,
       "text": [
        "[SourceModel(name='NSHMP2008US_micro.xml', weight=Decimal('1.00'), path=('b1',), trt_models=[<TrtModel #0 Active Shallow Crust, 5612 source(s)>], gsim_lt=<openquake.commonlib.logictree.GsimLogicTree object at 0x4b15890>, ordinal=0)]"
       ]
      }
     ],
     "prompt_number": 216
    },
    {
     "cell_type": "code",
     "collapsed": false,
     "input": [
      "trt_model = source_models[0].trt_models[0]\n",
      "trt_model.min_mag, trt_model.max_mag, trt_model.num_ruptures"
     ],
     "language": "python",
     "metadata": {},
     "outputs": [
      {
       "metadata": {},
       "output_type": "pyout",
       "prompt_number": 217,
       "text": [
        "(5.369, 8.42, 9310)"
       ]
      }
     ],
     "prompt_number": 217
    },
    {
     "cell_type": "code",
     "collapsed": false,
     "input": [
      "trt_model.sources[:3], trt_model.sources[-3:]"
     ],
     "language": "python",
     "metadata": {},
     "outputs": [
      {
       "metadata": {},
       "output_type": "pyout",
       "prompt_number": 218,
       "text": [
        "([<CharacteristicFaultSource 1>,\n",
        "  <CharacteristicFaultSource 100>,\n",
        "  <CharacteristicFaultSource 1000>],\n",
        " [<CharacteristicFaultSource 997>,\n",
        "  <CharacteristicFaultSource 998>,\n",
        "  <CharacteristicFaultSource 999>])"
       ]
      }
     ],
     "prompt_number": 218
    },
    {
     "cell_type": "code",
     "collapsed": false,
     "input": [
      "list(trt_model.sources[0].iter_ruptures())"
     ],
     "language": "python",
     "metadata": {},
     "outputs": [
      {
       "metadata": {},
       "output_type": "pyout",
       "prompt_number": 219,
       "text": [
        "[<openquake.hazardlib.source.rupture.ParametricProbabilisticRupture at 0x6250100>,\n",
        " <openquake.hazardlib.source.rupture.ParametricProbabilisticRupture at 0x6250260>,\n",
        " <openquake.hazardlib.source.rupture.ParametricProbabilisticRupture at 0x6250310>,\n",
        " <openquake.hazardlib.source.rupture.ParametricProbabilisticRupture at 0x62503c0>,\n",
        " <openquake.hazardlib.source.rupture.ParametricProbabilisticRupture at 0x6250470>,\n",
        " <openquake.hazardlib.source.rupture.ParametricProbabilisticRupture at 0x6250520>,\n",
        " <openquake.hazardlib.source.rupture.ParametricProbabilisticRupture at 0x62505d0>,\n",
        " <openquake.hazardlib.source.rupture.ParametricProbabilisticRupture at 0x6250680>,\n",
        " <openquake.hazardlib.source.rupture.ParametricProbabilisticRupture at 0x6250730>,\n",
        " <openquake.hazardlib.source.rupture.ParametricProbabilisticRupture at 0x62507e0>,\n",
        " <openquake.hazardlib.source.rupture.ParametricProbabilisticRupture at 0x6250890>,\n",
        " <openquake.hazardlib.source.rupture.ParametricProbabilisticRupture at 0x6250940>,\n",
        " <openquake.hazardlib.source.rupture.ParametricProbabilisticRupture at 0x62509f0>,\n",
        " <openquake.hazardlib.source.rupture.ParametricProbabilisticRupture at 0x6250aa0>,\n",
        " <openquake.hazardlib.source.rupture.ParametricProbabilisticRupture at 0x6250b50>]"
       ]
      }
     ],
     "prompt_number": 219
    },
    {
     "cell_type": "code",
     "collapsed": false,
     "input": [
      "src = trt_model.sources[0]\n",
      "src.mfd"
     ],
     "language": "python",
     "metadata": {},
     "outputs": [
      {
       "metadata": {},
       "output_type": "pyout",
       "prompt_number": 220,
       "text": [
        "<openquake.hazardlib.mfd.evenly_discretized.EvenlyDiscretizedMFD at 0x4f023c0>"
       ]
      }
     ],
     "prompt_number": 220
    },
    {
     "cell_type": "heading",
     "level": 1,
     "metadata": {},
     "source": [
      "Reading CSV files"
     ]
    },
    {
     "cell_type": "code",
     "collapsed": false,
     "input": [
      "o = readinput.get_oqparam('job_gmvs_from_csv.ini')\n",
      "readinput.get_sitecol_gmfs(o)"
     ],
     "language": "python",
     "metadata": {},
     "outputs": [
      {
       "metadata": {},
       "output_type": "pyout",
       "prompt_number": 221,
       "text": [
        "(<SiteCollection with 3 sites>,\n",
        " {'PGA': array([[ 0.489966,  0.455252,  0.393138],\n",
        "         [ 0.207681,  0.240424,  0.300524],\n",
        "         [ 0.099697,  0.087133,  0.092085]]),\n",
        "  'PGV': array([[ 41.4227 ,  26.7931 ,  33.1676 ],\n",
        "         [ 17.4768 ,   9.054  ,  13.2879 ],\n",
        "         [  8.19412,   8.41794,   6.5504 ]])})"
       ]
      }
     ],
     "prompt_number": 221
    },
    {
     "cell_type": "code",
     "collapsed": false,
     "input": [
      "o = readinput.get_oqparam('job_hc_from_csv.ini')\n",
      "readinput.get_sitecol_hcurves(o)"
     ],
     "language": "python",
     "metadata": {},
     "outputs": [
      {
       "metadata": {},
       "output_type": "pyout",
       "prompt_number": 222,
       "text": [
        "(<SiteCollection with 3 sites>,\n",
        " {'PGA': array([[ 0.4891846 ,  0.45525296,  0.39313824],\n",
        "         [ 0.30783781,  0.24033782,  0.13052459],\n",
        "         [ 0.9977148 ,  0.87679151,  0.20852236]]),\n",
        "  'SA(0.2)': array([[ 0.414227  ,  0.19310681,  0.16763226],\n",
        "         [ 0.17196265,  0.05421363,  0.02879748],\n",
        "         [ 0.81992743,  0.61794658,  0.55046728]]),\n",
        "  'SA(0.5)': array([[ 0.0414227 ,  0.01931068,  0.01676323],\n",
        "         [ 0.0171965 ,  0.00542136,  0.00287974],\n",
        "         [ 0.8199274 ,  0.61794658,  0.55046728]])})"
       ]
      }
     ],
     "prompt_number": 222
    },
    {
     "cell_type": "heading",
     "level": 1,
     "metadata": {},
     "source": [
      "Writing a HelloWorld calculator"
     ]
    },
    {
     "cell_type": "code",
     "collapsed": false,
     "input": [
      "from openquake.calculators import base"
     ],
     "language": "python",
     "metadata": {},
     "outputs": [],
     "prompt_number": 223
    },
    {
     "cell_type": "code",
     "collapsed": false,
     "input": [
      "HelloCalculator = base.calculators['hello']; HelloCalculator"
     ],
     "language": "python",
     "metadata": {},
     "outputs": [
      {
       "metadata": {},
       "output_type": "pyout",
       "prompt_number": 224,
       "text": [
        "my_calculators.hello.HelloCalculator"
       ]
      }
     ],
     "prompt_number": 224
    },
    {
     "cell_type": "code",
     "collapsed": false,
     "input": [
      "print open('hello.ini').read()\n",
      "oqp = readinput.get_oqparam('hello.ini')"
     ],
     "language": "python",
     "metadata": {},
     "outputs": [
      {
       "output_type": "stream",
       "stream": "stdout",
       "text": [
        "[general]\n",
        "calculation_mode = hello\n",
        "maximum_distance = 200\n",
        "intensity_measure_types = PGA\n",
        "export_dir = /tmp\n",
        "\n"
       ]
      }
     ],
     "prompt_number": 225
    },
    {
     "cell_type": "code",
     "collapsed": false,
     "input": [
      "from openquake.commonlib.parallel import PerformanceMonitor\n",
      "calc = HelloCalculator(oqp, PerformanceMonitor('hello'))"
     ],
     "language": "python",
     "metadata": {},
     "outputs": [],
     "prompt_number": 226
    },
    {
     "cell_type": "code",
     "collapsed": false,
     "input": [
      "calc.run()"
     ],
     "language": "python",
     "metadata": {},
     "outputs": [
      {
       "metadata": {},
       "output_type": "pyout",
       "prompt_number": 227,
       "text": [
        "{'hello': '/tmp/hello.txt'}"
       ]
      }
     ],
     "prompt_number": 227
    },
    {
     "cell_type": "markdown",
     "metadata": {},
     "source": [
      "In the export_dir there will be a file `performance.csv` with some interesting information about time spent and memory allocated"
     ]
    },
    {
     "cell_type": "heading",
     "level": 2,
     "metadata": {},
     "source": [
      "Testing the calculator"
     ]
    },
    {
     "cell_type": "code",
     "collapsed": false,
     "input": [
      "from hello_test import HelloTestCase\n",
      "HelloTestCase??"
     ],
     "language": "python",
     "metadata": {},
     "outputs": [],
     "prompt_number": 228
    },
    {
     "cell_type": "markdown",
     "metadata": {},
     "source": [
      "==================================================================================================================================="
     ]
    },
    {
     "cell_type": "heading",
     "level": 1,
     "metadata": {},
     "source": [
      "    Parallel execution with apply_reduce"
     ]
    },
    {
     "cell_type": "markdown",
     "metadata": {},
     "source": [
      "Example: building a frequency hystogram"
     ]
    },
    {
     "cell_type": "code",
     "collapsed": false,
     "input": [
      "from collections import Counter"
     ],
     "language": "python",
     "metadata": {},
     "outputs": [],
     "prompt_number": 229
    },
    {
     "cell_type": "code",
     "collapsed": false,
     "input": [
      "Counter('pippolippo')"
     ],
     "language": "python",
     "metadata": {},
     "outputs": [
      {
       "metadata": {},
       "output_type": "pyout",
       "prompt_number": 230,
       "text": [
        "Counter({'p': 5, 'i': 2, 'o': 2, 'l': 1})"
       ]
      }
     ],
     "prompt_number": 230
    },
    {
     "cell_type": "code",
     "collapsed": false,
     "input": [
      "def frequencyhisto(fnames):\n",
      "    \"Compute the character frequency hystogram of a set of files\"\n",
      "    c = Counter()\n",
      "    for fname in fnames:\n",
      "        c += Counter(open(fname).read().upper())\n",
      "    return c"
     ],
     "language": "python",
     "metadata": {},
     "outputs": [],
     "prompt_number": 231
    },
    {
     "cell_type": "code",
     "collapsed": false,
     "input": [
      "from openquake.commonlib import nrml_examples"
     ],
     "language": "python",
     "metadata": {},
     "outputs": [],
     "prompt_number": 232
    },
    {
     "cell_type": "code",
     "collapsed": false,
     "input": [
      "DIR = nrml_examples.__path__[0]"
     ],
     "language": "python",
     "metadata": {},
     "outputs": [],
     "prompt_number": 233
    },
    {
     "cell_type": "code",
     "collapsed": false,
     "input": [
      "DIR"
     ],
     "language": "python",
     "metadata": {},
     "outputs": [
      {
       "metadata": {},
       "output_type": "pyout",
       "prompt_number": 234,
       "text": [
        "'/home/ubuntu/oq-risklib/openquake/commonlib/nrml_examples'"
       ]
      }
     ],
     "prompt_number": 234
    },
    {
     "cell_type": "code",
     "collapsed": false,
     "input": [
      "import os; xmlfiles = [os.path.join(DIR, f) for f in os.listdir(DIR) if f.endswith('.xml')]; xmlfiles"
     ],
     "language": "python",
     "metadata": {},
     "outputs": [
      {
       "metadata": {},
       "output_type": "pyout",
       "prompt_number": 235,
       "text": [
        "['/home/ubuntu/oq-risklib/openquake/commonlib/nrml_examples/logic-tree-gmpe.xml',\n",
        " '/home/ubuntu/oq-risklib/openquake/commonlib/nrml_examples/logic-tree-source-model.xml',\n",
        " '/home/ubuntu/oq-risklib/openquake/commonlib/nrml_examples/complex-fault-rupture.xml',\n",
        " '/home/ubuntu/oq-risklib/openquake/commonlib/nrml_examples/loss-fractions-taxonomies.xml',\n",
        " '/home/ubuntu/oq-risklib/openquake/commonlib/nrml_examples/hazard-curves-mean.xml',\n",
        " '/home/ubuntu/oq-risklib/openquake/commonlib/nrml_examples/uhs-quantile.xml',\n",
        " '/home/ubuntu/oq-risklib/openquake/commonlib/nrml_examples/collapse-map.xml',\n",
        " '/home/ubuntu/oq-risklib/openquake/commonlib/nrml_examples/ses.xml',\n",
        " '/home/ubuntu/oq-risklib/openquake/commonlib/nrml_examples/site_model.xml',\n",
        " '/home/ubuntu/oq-risklib/openquake/commonlib/nrml_examples/dmg-dist-total.xml',\n",
        " '/home/ubuntu/oq-risklib/openquake/commonlib/nrml_examples/hazard-curves-multi.xml',\n",
        " '/home/ubuntu/oq-risklib/openquake/commonlib/nrml_examples/exposure-population.xml',\n",
        " '/home/ubuntu/oq-risklib/openquake/commonlib/nrml_examples/vulnerability-model-discrete.xml',\n",
        " '/home/ubuntu/oq-risklib/openquake/commonlib/nrml_examples/hazard-map-mean.xml',\n",
        " '/home/ubuntu/oq-risklib/openquake/commonlib/nrml_examples/hazard-curves-sa.xml',\n",
        " '/home/ubuntu/oq-risklib/openquake/commonlib/nrml_examples/bcr-map.xml',\n",
        " '/home/ubuntu/oq-risklib/openquake/commonlib/nrml_examples/loss-map-quantile.xml',\n",
        " '/home/ubuntu/oq-risklib/openquake/commonlib/nrml_examples/hazard-curves-pga.xml',\n",
        " '/home/ubuntu/oq-risklib/openquake/commonlib/nrml_examples/gmf-event-based.xml',\n",
        " '/home/ubuntu/oq-risklib/openquake/commonlib/nrml_examples/fragm_c.xml',\n",
        " '/home/ubuntu/oq-risklib/openquake/commonlib/nrml_examples/disaggregation.xml',\n",
        " '/home/ubuntu/oq-risklib/openquake/commonlib/nrml_examples/bcr-map-quantile.xml',\n",
        " '/home/ubuntu/oq-risklib/openquake/commonlib/nrml_examples/loss-map-scenario-risk.xml',\n",
        " '/home/ubuntu/oq-risklib/openquake/commonlib/nrml_examples/loss-curves-quantile.xml',\n",
        " '/home/ubuntu/oq-risklib/openquake/commonlib/nrml_examples/exposure-portfolio.xml',\n",
        " '/home/ubuntu/oq-risklib/openquake/commonlib/nrml_examples/agg-loss-curve.xml',\n",
        " '/home/ubuntu/oq-risklib/openquake/commonlib/nrml_examples/uhs-mean.xml',\n",
        " '/home/ubuntu/oq-risklib/openquake/commonlib/nrml_examples/uhs.xml',\n",
        " '/home/ubuntu/oq-risklib/openquake/commonlib/nrml_examples/fragm_d.xml',\n",
        " '/home/ubuntu/oq-risklib/openquake/commonlib/nrml_examples/loss-map.xml',\n",
        " '/home/ubuntu/oq-risklib/openquake/commonlib/nrml_examples/dmg-dist-per-taxonomy.xml',\n",
        " '/home/ubuntu/oq-risklib/openquake/commonlib/nrml_examples/loss-curves.xml',\n",
        " '/home/ubuntu/oq-risklib/openquake/commonlib/nrml_examples/dmg-dist-per-asset.xml',\n",
        " '/home/ubuntu/oq-risklib/openquake/commonlib/nrml_examples/hazard-curves-quantile.xml',\n",
        " '/home/ubuntu/oq-risklib/openquake/commonlib/nrml_examples/hazard-map-quantile.xml',\n",
        " '/home/ubuntu/oq-risklib/openquake/commonlib/nrml_examples/simple-fault-rupture.xml',\n",
        " '/home/ubuntu/oq-risklib/openquake/commonlib/nrml_examples/hazard-map.xml']"
       ]
      }
     ],
     "prompt_number": 235
    },
    {
     "cell_type": "code",
     "collapsed": false,
     "input": [
      "len(xmlfiles)"
     ],
     "language": "python",
     "metadata": {},
     "outputs": [
      {
       "metadata": {},
       "output_type": "pyout",
       "prompt_number": 236,
       "text": [
        "37"
       ]
      }
     ],
     "prompt_number": 236
    },
    {
     "cell_type": "code",
     "collapsed": false,
     "input": [
      "apply(frequencyhisto, (xmlfiles,))"
     ],
     "language": "python",
     "metadata": {},
     "outputs": [
      {
       "metadata": {},
       "output_type": "pyout",
       "prompt_number": 237,
       "text": [
        "Counter({' ': 12304, 'E': 2177, 'T': 1799, '\"': 1726, 'S': 1545, 'N': 1410, 'L': 1389, '0': 1383, 'O': 1368, 'A': 1339, 'I': 1300, 'R': 1159, '\\n': 1154, 'M': 1102, '<': 1052, '>': 1052, '.': 1049, '=': 940, '/': 861, 'G': 781, 'D': 761, 'P': 747, 'C': 699, '1': 586, 'U': 559, '2': 405, '-': 363, 'H': 353, 'V': 329, 'F': 312, ':': 286, '3': 275, 'B': 269, '4': 257, '5': 246, 'X': 219, 'Y': 211, '9': 181, '8': 177, '7': 167, '6': 167, 'W': 147, '_': 94, \"'\": 92, '?': 72, 'Z': 70, ',': 53, 'Q': 53, 'K': 52, '+': 41, '!': 40, '|': 30, '`': 16, ')': 6, '(': 6})"
       ]
      }
     ],
     "prompt_number": 237
    },
    {
     "cell_type": "code",
     "collapsed": false,
     "input": [
      "from openquake.commonlib.parallel import apply_reduce\n",
      "import operator"
     ],
     "language": "python",
     "metadata": {},
     "outputs": [],
     "prompt_number": 238
    },
    {
     "cell_type": "code",
     "collapsed": false,
     "input": [
      "apply_reduce(frequencyhisto, (xmlfiles,), agg=operator.add, acc=Counter(), concurrent_tasks=4)"
     ],
     "language": "python",
     "metadata": {},
     "outputs": [
      {
       "metadata": {},
       "output_type": "pyout",
       "prompt_number": 239,
       "text": [
        "Counter({' ': 12304, 'E': 2177, 'T': 1799, '\"': 1726, 'S': 1545, 'N': 1410, 'L': 1389, '0': 1383, 'O': 1368, 'A': 1339, 'I': 1300, 'R': 1159, '\\n': 1154, 'M': 1102, '<': 1052, '>': 1052, '.': 1049, '=': 940, '/': 861, 'G': 781, 'D': 761, 'P': 747, 'C': 699, '1': 586, 'U': 559, '2': 405, '-': 363, 'H': 353, 'V': 329, 'F': 312, ':': 286, '3': 275, 'B': 269, '4': 257, '5': 246, 'X': 219, 'Y': 211, '9': 181, '8': 177, '7': 167, '6': 167, 'W': 147, '_': 94, \"'\": 92, '?': 72, 'Z': 70, ',': 53, 'Q': 53, 'K': 52, '+': 41, '!': 40, '|': 30, '`': 16, ')': 6, '(': 6})"
       ]
      }
     ],
     "prompt_number": 239
    },
    {
     "cell_type": "code",
     "collapsed": false,
     "input": [
      "[len(chunk) for chunk in apply_reduce._chunks]"
     ],
     "language": "python",
     "metadata": {},
     "outputs": [
      {
       "metadata": {},
       "output_type": "pyout",
       "prompt_number": 240,
       "text": [
        "[10, 10, 10, 7]"
       ]
      }
     ],
     "prompt_number": 240
    },
    {
     "cell_type": "code",
     "collapsed": false,
     "input": [
      "apply_reduce(frequencyhisto, (xmlfiles,), agg=operator.add, acc=Counter(), concurrent_tasks=4,\n",
      "             weight=os.path.getsize)"
     ],
     "language": "python",
     "metadata": {},
     "outputs": [
      {
       "metadata": {},
       "output_type": "pyout",
       "prompt_number": 241,
       "text": [
        "Counter({' ': 12304, 'E': 2177, 'T': 1799, '\"': 1726, 'S': 1545, 'N': 1410, 'L': 1389, '0': 1383, 'O': 1368, 'A': 1339, 'I': 1300, 'R': 1159, '\\n': 1154, 'M': 1102, '<': 1052, '>': 1052, '.': 1049, '=': 940, '/': 861, 'G': 781, 'D': 761, 'P': 747, 'C': 699, '1': 586, 'U': 559, '2': 405, '-': 363, 'H': 353, 'V': 329, 'F': 312, ':': 286, '3': 275, 'B': 269, '4': 257, '5': 246, 'X': 219, 'Y': 211, '9': 181, '8': 177, '7': 167, '6': 167, 'W': 147, '_': 94, \"'\": 92, '?': 72, 'Z': 70, ',': 53, 'Q': 53, 'K': 52, '+': 41, '!': 40, '|': 30, '`': 16, ')': 6, '(': 6})"
       ]
      }
     ],
     "prompt_number": 241
    },
    {
     "cell_type": "code",
     "collapsed": false,
     "input": [
      "[chunk.weight for chunk in apply_reduce._chunks]"
     ],
     "language": "python",
     "metadata": {},
     "outputs": [
      {
       "metadata": {},
       "output_type": "pyout",
       "prompt_number": 242,
       "text": [
        "[8742, 11239, 8761, 10360, 6129]"
       ]
      }
     ],
     "prompt_number": 242
    },
    {
     "cell_type": "code",
     "collapsed": false,
     "input": [
      "[len(chunk) for chunk in apply_reduce._chunks]"
     ],
     "language": "python",
     "metadata": {},
     "outputs": [
      {
       "metadata": {},
       "output_type": "pyout",
       "prompt_number": 243,
       "text": [
        "[7, 10, 7, 8, 5]"
       ]
      }
     ],
     "prompt_number": 243
    },
    {
     "cell_type": "code",
     "collapsed": false,
     "input": [
      "apply_reduce._chunks[0]"
     ],
     "language": "python",
     "metadata": {},
     "outputs": [
      {
       "metadata": {},
       "output_type": "pyout",
       "prompt_number": 244,
       "text": [
        "<WeightedSequence ['/home/ubuntu/oq-risklib/openquake/commonlib/nrml_examples/logic-tree-gmpe.xml', '/home/ubuntu/oq-risklib/openquake/commonlib/nrml_examples/logic-tree-source-model.xml', '/home/ubuntu/oq-risklib/openquake/commonlib/nrml_examples/complex-fault-rupture.xml', '/home/ubuntu/oq-risklib/openquake/commonlib/nrml_examples/loss-fractions-taxonomies.xml', '/home/ubuntu/oq-risklib/openquake/commonlib/nrml_examples/hazard-curves-mean.xml', '/home/ubuntu/oq-risklib/openquake/commonlib/nrml_examples/uhs-quantile.xml', '/home/ubuntu/oq-risklib/openquake/commonlib/nrml_examples/collapse-map.xml'], weight=8742>"
       ]
      }
     ],
     "prompt_number": 244
    },
    {
     "cell_type": "code",
     "collapsed": false,
     "input": [
      "from openquake.baselib.general import split_in_blocks"
     ],
     "language": "python",
     "metadata": {},
     "outputs": [],
     "prompt_number": 245
    },
    {
     "cell_type": "code",
     "collapsed": false,
     "input": [
      "split_in_blocks??"
     ],
     "language": "python",
     "metadata": {},
     "outputs": [],
     "prompt_number": 246
    },
    {
     "cell_type": "heading",
     "level": 1,
     "metadata": {},
     "source": [
      "Accumulating dictionaries"
     ]
    },
    {
     "cell_type": "code",
     "collapsed": false,
     "input": [
      "from openquake.baselib.general import AccumDict\n",
      "AccumDict??"
     ],
     "language": "python",
     "metadata": {},
     "outputs": [],
     "prompt_number": 247
    },
    {
     "cell_type": "code",
     "collapsed": false,
     "input": [
      "acc = AccumDict()\n",
      "acc"
     ],
     "language": "python",
     "metadata": {},
     "outputs": [
      {
       "metadata": {},
       "output_type": "pyout",
       "prompt_number": 248,
       "text": [
        "{}"
       ]
      }
     ],
     "prompt_number": 248
    },
    {
     "cell_type": "code",
     "collapsed": false,
     "input": [
      "acc2 = acc + {'a': 1}"
     ],
     "language": "python",
     "metadata": {},
     "outputs": [],
     "prompt_number": 249
    },
    {
     "cell_type": "code",
     "collapsed": false,
     "input": [
      "acc3 = acc2 + {'a': 1}"
     ],
     "language": "python",
     "metadata": {},
     "outputs": [],
     "prompt_number": 250
    },
    {
     "cell_type": "code",
     "collapsed": false,
     "input": [
      "acc3"
     ],
     "language": "python",
     "metadata": {},
     "outputs": [
      {
       "metadata": {},
       "output_type": "pyout",
       "prompt_number": 251,
       "text": [
        "{'a': 2}"
       ]
      }
     ],
     "prompt_number": 251
    },
    {
     "cell_type": "code",
     "collapsed": false,
     "input": [
      "acc4 = acc3 + {'b': 0}\n",
      "acc4"
     ],
     "language": "python",
     "metadata": {},
     "outputs": [
      {
       "metadata": {},
       "output_type": "pyout",
       "prompt_number": 252,
       "text": [
        "{'a': 2, 'b': 0}"
       ]
      }
     ],
     "prompt_number": 252
    },
    {
     "cell_type": "heading",
     "level": 1,
     "metadata": {},
     "source": [
      "Sequential scenario hazard calculator"
     ]
    },
    {
     "cell_type": "code",
     "collapsed": false,
     "input": [
      "from my_calculators import scenario\n",
      "scenario??"
     ],
     "language": "python",
     "metadata": {},
     "outputs": [],
     "prompt_number": 253
    },
    {
     "cell_type": "heading",
     "level": 1,
     "metadata": {},
     "source": [
      "Parallel scenario hazard calculator"
     ]
    },
    {
     "cell_type": "code",
     "collapsed": false,
     "input": [
      "from openquake.calculators.hazard import ScenarioCalculator"
     ],
     "language": "python",
     "metadata": {},
     "outputs": [],
     "prompt_number": 254
    },
    {
     "cell_type": "code",
     "collapsed": false,
     "input": [
      "ScenarioCalculator??"
     ],
     "language": "python",
     "metadata": {},
     "outputs": [],
     "prompt_number": 255
    },
    {
     "cell_type": "heading",
     "level": 1,
     "metadata": {},
     "source": [
      "Caveats and notes"
     ]
    },
    {
     "cell_type": "markdown",
     "metadata": {},
     "source": [
      "1. is the parallel calculator faster than the sequential one?\n",
      "2. is the export faster than the calculation?\n",
      "3. how much the results depend on the seed?\n",
      "4. is the memory occupation an issue?\n",
      "5. do we really need a scenario hazard calculator?"
     ]
    },
    {
     "cell_type": "code",
     "collapsed": false,
     "input": [
      "from openquake.commonlib.parallel import PerformanceMonitor\n",
      "PerformanceMonitor?"
     ],
     "language": "python",
     "metadata": {},
     "outputs": [],
     "prompt_number": 256
    },
    {
     "cell_type": "heading",
     "level": 1,
     "metadata": {},
     "source": [
      "Towards a Scenario Damage Calculator"
     ]
    },
    {
     "cell_type": "code",
     "collapsed": false,
     "input": [
      "from openquake.commonlib import readinput\n",
      "from openquake.calculators.calc import calc_gmfs"
     ],
     "language": "python",
     "metadata": {},
     "outputs": [],
     "prompt_number": 257
    },
    {
     "cell_type": "code",
     "collapsed": false,
     "input": [
      "o = readinput.get_oqparam('job_damage.ini')\n",
      "exposure = readinput.get_exposure(o)\n",
      "sitecol, assets_by_site = readinput.get_sitecol_assets(o, exposure)\n",
      "risk_model = readinput.get_risk_model(o)\n",
      "gmfs_by_imt = calc_gmfs(o, sitecol)"
     ],
     "language": "python",
     "metadata": {},
     "outputs": [],
     "prompt_number": 258
    },
    {
     "cell_type": "code",
     "collapsed": false,
     "input": [
      "ri = risk_model.build_input('PGA', gmfs_by_imt['PGA'], assets_by_site)\n",
      "ri"
     ],
     "language": "python",
     "metadata": {},
     "outputs": [
      {
       "metadata": {},
       "output_type": "pyout",
       "prompt_number": 259,
       "text": [
        "<RiskInput IMT=PGA, taxonomy=RM, weight=1>"
       ]
      }
     ],
     "prompt_number": 259
    },
    {
     "cell_type": "code",
     "collapsed": false,
     "input": [
      "assets, hazards, epsilons = ri.get_all()\n",
      "print assets\n",
      "print hazards\n",
      "print epsilons"
     ],
     "language": "python",
     "metadata": {},
     "outputs": [
      {
       "output_type": "stream",
       "stream": "stdout",
       "text": [
        "{'RM': [<Asset a1>]}\n",
        "{'RM': [array([ 0.06108985,  0.02149156,  0.09326082,  0.017891  ,  0.06110326])]}\n",
        "{'RM': [None]}\n"
       ]
      }
     ],
     "prompt_number": 260
    },
    {
     "cell_type": "code",
     "collapsed": false,
     "input": [
      "from openquake.risklib.riskinput import RiskInput; RiskInput"
     ],
     "language": "python",
     "metadata": {},
     "outputs": [
      {
       "metadata": {},
       "output_type": "pyout",
       "prompt_number": 261,
       "text": [
        "openquake.risklib.riskinput.RiskInput"
       ]
      }
     ],
     "prompt_number": 261
    }
   ],
   "metadata": {}
  }
 ]
}
